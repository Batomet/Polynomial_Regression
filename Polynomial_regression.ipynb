{
 "cells": [
  {
   "cell_type": "markdown",
   "metadata": {},
   "source": [
    "## Przygotowanie\n",
    "\n",
    "Przed rozpoczęciem pracy z notatnikiem proszę zmienić jego nazwę dodając na początku numer albumu, imię i nazwisko.\n",
    "{nr_albumu}\\_{imię}\\_{nazwisko}\\_{nazwa}\n",
    "\n",
    "Po wykonaniu wszystkich zadań proszę przesłać wypełniony notatnik przez platformę ELF za pomocą formularza \"Prześlij projekt\" w odpowiedniej sekcji. "
   ]
  },
  {
   "attachments": {
    "deer.png": {
     "image/png": "[encoded data removed]"
    }
   },
   "cell_type": "markdown",
   "metadata": {},
   "source": [
    "## Regresja wielomianowa\n",
    "\n",
    "Regresja liniowa działa dobrze w sytuacji, gdy zmienna, której wartość chemy przewidzieć (zmienna objaśniana/zależna) jest liniowo zależna od zmiennych za pomocą których chcemy ją obliczyć (zmiennych objaśniających/niezależnych). Jak nietrudno się domyślić, takie założenie jest mocno ograniczające i w realnych problemach rzadko będzie ono spełniane. Pojawia się zatem pytanie, co zrobić, gdy wiemy, że dane nie spełniają założenia o liniowej zależności. Istnieje wiele algorytmów rozwiązujących takie problemy. Jednym z nich jest regresja wielomianowa.\n",
    "\n",
    "Regresja wielomianowa polega na zmianie funkcji regresji tak, aby była to funkcja wielomianowa. Przykładowo, dla jednej zmiennej niezależnej można stworzyć model, którego funkcja regresji będzie wielomianem czwartego stopnia: \n",
    "\n",
    "\\begin{equation}\n",
    "f(x) = \\beta_{0} + \\beta_{1}x_1 + \\beta_{2}x_1^2 + \\beta_{3}x_1^3 + \\beta_{4}x_1^4\n",
    "\\end{equation}\n",
    "\n",
    "Pozwala to na stworzenie dowolnego kształtu funkcji, który będzie dopasowany do danych. Zwiekszanie krotności wielomianu spowoduje dokładniejsze dopasowanie do danych, jednak rodzi też pewne niebezpieczeństwa. Może okazać się, że taki model będzie zbyt mocno dopasowany do próbek uczących i nie będzie w stanie dokonywać poprawnych predykcji dla nowych, nieznanych próbek. Takie zjawisko nazywa się przeuczeniem modelu i istnieją różne metody do jego rozpoznania i przeciwdziałania. Nie jest to jednak przedmiotem tego notatnika. \n",
    "\n",
    "Cały proces trenowania i testowania modelu wygląda jak w przypadku regresji liniowej. Różnica polega jedynie na zmianie funkcji regresji.\n",
    "\n",
    "Zbiór danych do tego zadania znajduje się w pliku \"jaws.csv\" i przedstawia zależność długości kości szczękowej jelenia od jego wieku. \n",
    "\n",
    "![deer.png](attachment:deer.png)\n",
    "\n",
    "Na powyższym wykresie widać, że zależność na pewno nie jest liniowa. Szczęka zwierzęcia rośnie do pewnego wieku i później jej długość jest stała przez resztę życia. Spróbujemy rozwiązać ten problem za pomocą regresji wielomianowej.\n"
   ]
  },
  {
   "cell_type": "markdown",
   "metadata": {},
   "source": [
    "### Zadanie 1\n",
    "Aby stworzyć funkcję wielomianową konieczne jest dodanie nowych cech do istniejącego zestawu danych.  \n",
    "Stwórz funkcję, która przetransformuje pojedynczą cechę do wektora cech, w którym kolejne elementy, to kolejne potęgi danej cechy. \n",
    "\n",
    "Przykład:  \n",
    "transform_to_polynomial_feature(x, 5) -> $[x^1, x^2, x^3, x^4, x^5]$  \n",
    "transform_to_polynomial_feature(x, 3) -> $[x^1, x^2, x^3]$"
   ]
  },
  {
   "cell_type": "code",
   "metadata": {
    "ExecuteTime": {
     "end_time": "2024-10-21T11:22:46.168177Z",
     "start_time": "2024-10-21T11:22:46.161861Z"
    }
   },
   "source": [
    "import numpy as np\n",
    "import pandas as pd\n",
    "import matplotlib.pyplot as plt\n",
    "\n",
    "import random\n",
    "import time\n",
    "from typing import Tuple\n",
    "\n",
    "\n",
    "'''\n",
    "input:\n",
    "x - wartość zmiennej niezależnej\n",
    "n - stopień wielomianu\n",
    "\n",
    "output:\n",
    "out: [] - lista o długości n z kolejnymi potęgami wejściowej cechy x\n",
    "'''\n",
    "def transform_to_polynomial_feature(x: np.ndarray, n: int) -> np.ndarray:\n",
    "    out = np.column_stack([x**i for i in range(1, n+1)])\n",
    "    return out\n",
    "\n",
    "\n",
    "\n",
    "x = np.array([2, 3])\n",
    "n = 3\n",
    "print(transform_to_polynomial_feature(x, n))"
   ],
   "outputs": [
    {
     "name": "stdout",
     "output_type": "stream",
     "text": [
      "[[ 2  4  8]\n",
      " [ 3  9 27]]\n"
     ]
    }
   ],
   "execution_count": 385
  },
  {
   "cell_type": "markdown",
   "metadata": {},
   "source": [
    "### Zadanie 2\n",
    "\n",
    "Zmodyfikuj swój kod z zadania z regresją liniową tak, aby dla zestawu danych x z jedną zmienną niezależną tworzył nieliniową funkcję regresji. Przetestuj rozwiązanie dla różnych wariantów stopnia wielomianu.\n",
    "Pamiętaj, że konieczne dodanie dodatkowych cech do oryginalnego zbioru danych, które będą kolejnymi potęgami zmiennej niezależnej - wiek zwierzęcia. \n",
    "\n",
    "**UWAGA:** Przed podaniem zestawu danych na wejście modelu pomocna może okazać się operacja normalizacji danych, której celem jest sprowadzenie wartości cech do wspólnych przedziałów wartości. Aby to osiągnąc można wykorzystać [gotowe rozwiązania do standaryzacji lub skalowania min-max](https://scikit-learn.org/stable/modules/preprocessing.html) albo zaimplementować skalowanie samemu korzystając ze [wzoru](https://pl.wikipedia.org/wiki/Standaryzacja_(statystyka))."
   ]
  },
  {
   "metadata": {},
   "cell_type": "markdown",
   "source": "Załadowanie danych z pliku csv"
  },
  {
   "metadata": {
    "ExecuteTime": {
     "end_time": "2024-10-21T11:22:46.221089Z",
     "start_time": "2024-10-21T11:22:46.213463Z"
    }
   },
   "cell_type": "code",
   "source": [
    "df = pd.read_csv('jaws.csv')\n",
    "# print(df.head)\n",
    "\n",
    "X = df['age'].values\n",
    "y = df['bone'].values\n",
    "\n",
    "print(\"Min X:\", np.min(X), \"Max X:\", np.max(X))\n",
    "print(\"Min y:\", np.min(y), \"Max y:\", np.max(y))\n"
   ],
   "outputs": [
    {
     "name": "stdout",
     "output_type": "stream",
     "text": [
      "Min X: 0.0 Max X: 50.60409652\n",
      "Min y: 0.0 Max y: 142.0\n"
     ]
    }
   ],
   "execution_count": 386
  },
  {
   "metadata": {},
   "cell_type": "markdown",
   "source": "Funkcje normalizująca i przywracająca"
  },
  {
   "metadata": {
    "ExecuteTime": {
     "end_time": "2024-10-21T11:22:46.256393Z",
     "start_time": "2024-10-21T11:22:46.249348Z"
    }
   },
   "cell_type": "code",
   "source": [
    "def normalize(data: np.array) -> np.array:\n",
    "    data_min = np.min(data)\n",
    "    data_max = np.max(data)\n",
    "    normalized_data = (data - data_min) / (data_max - data_min)\n",
    "    return normalized_data, data_min, data_max\n",
    "\n",
    "def denormalize(normalize_data: np.array, data_min: float, data_max: float) -> np.array:\n",
    "    original_data = normalize_data * (data_max - data_min) + data_min\n",
    "    return original_data"
   ],
   "outputs": [],
   "execution_count": 387
  },
  {
   "metadata": {},
   "cell_type": "markdown",
   "source": "Zmieniony kod z poprzedniego projektu z regresji liniowej"
  },
  {
   "cell_type": "code",
   "metadata": {
    "ExecuteTime": {
     "end_time": "2024-10-21T11:22:46.300009Z",
     "start_time": "2024-10-21T11:22:46.292936Z"
    }
   },
   "source": [
    "def calculate_polynomial_regression_function(X: np.array, beta: np.array) -> np.array:\n",
    "    predict = np.dot(X, beta)\n",
    "    return predict\n",
    "\n",
    "\n",
    "def initialize_coefficients(n:int) -> Tuple[np.array, float]:\n",
    "    beta = np.random.uniform(0,1, n)\n",
    "    alpha = 0.000001\n",
    "    \n",
    "    return beta, alpha\n",
    "\n",
    "def calculate_error(predictions: np.array, y: np.array) -> float:\n",
    "    m = len(y)\n",
    "    diff = predictions - y\n",
    "    error = np.sum(diff ** 2) / (2 * m)\n",
    "    return error\n",
    "\n",
    "def calculate_gradient(predictions: np.ndarray, y: np.ndarray, X: np.ndarray) -> np.ndarray:\n",
    "    m = len(y)\n",
    "    return (1/m) * np.dot(X.T, (predictions - y))\n",
    "\n",
    "\n",
    "def update_regression_coefficients(beta: np.ndarray, grad_beta: np.ndarray, alpha: float) -> np.ndarray:\n",
    "    return beta - alpha * grad_beta"
   ],
   "outputs": [],
   "execution_count": 388
  },
  {
   "metadata": {
    "ExecuteTime": {
     "end_time": "2024-10-21T11:22:46.333713Z",
     "start_time": "2024-10-21T11:22:46.327307Z"
    }
   },
   "cell_type": "code",
   "source": [
    "'''\n",
    "input:\n",
    "x - wartości zmiennej objaśniającej YearsExperience dla wszystkich obserwacji\n",
    "y - wartości zmiennej objaśnianej Salary dla wszystkich obserwacji\n",
    "\n",
    "output:\n",
    "beta_history: [] - lista z współczynnikami beta w każdej z epok\n",
    "error_history: [] - lista z błędem w każdej epoce\n",
    "'''\n",
    "\n",
    "def learn_and_fit(X: np.ndarray, y: np.ndarray, n: int, alpha: float = 0.00001) -> Tuple[np.ndarray, np.ndarray]:\n",
    "    beta, _ = initialize_coefficients(n)\n",
    "    \n",
    "    beta_history = []\n",
    "    error_history = []\n",
    "    \n",
    "    for epoch in range(500):\n",
    "        # Debugging: Print at the start of each epoch\n",
    "        if epoch % 50 == 0:\n",
    "            print(f\"Epoch {epoch}:\")\n",
    "            print(f\"  Beta values: {beta}\")\n",
    "        \n",
    "        predictions = calculate_polynomial_regression_function(X, beta)\n",
    "        \n",
    "        error = calculate_error(predictions, y)\n",
    "        error_history.append(error)\n",
    "        \n",
    "        # Debugging: Print error value\n",
    "        if epoch % 50 == 0:\n",
    "            print(f\"  Error: {error}\")\n",
    "        \n",
    "        grad_beta = calculate_gradient(predictions, y, X)\n",
    "        beta = update_regression_coefficients(beta, grad_beta, alpha)\n",
    "        \n",
    "        # Debugging: Print updated beta values\n",
    "        if epoch % 50 == 0:\n",
    "            print(f\"  Updated Beta: {beta}\")\n",
    "        \n",
    "        beta_history.append(beta)\n",
    "        \n",
    "    return np.array(beta_history[-1]).flatten(), error_history\n",
    "\n"
   ],
   "outputs": [],
   "execution_count": 389
  },
  {
   "metadata": {
    "ExecuteTime": {
     "end_time": "2024-10-21T11:22:46.374617Z",
     "start_time": "2024-10-21T11:22:46.359320Z"
    }
   },
   "cell_type": "code",
   "source": [
    "X_normalized, X_min, X_max = normalize(X)\n",
    "y_normalized, y_min, y_max = normalize(y)\n",
    "\n",
    "n = 3  \n",
    "\n",
    "X_poly = transform_to_polynomial_feature(X_normalized, n)\n",
    "\n",
    "# print(X_poly.shape)  \n",
    "\n",
    "beta_history, error_history = learn_and_fit(X_poly, y_normalized, n)\n",
    "\n",
    "predictions_normalized = calculate_polynomial_regression_function(X_poly, beta_history[-1])\n",
    "predictions = denormalize(predictions_normalized, y_min, y_max)\n",
    "\n",
    "print(\"Przewidywane wartości:\", predictions[:5])\n"
   ],
   "outputs": [
    {
     "name": "stdout",
     "output_type": "stream",
     "text": [
      "Epoch 0:\n",
      "  Beta values: [0.70056371 0.90663924 0.36510152]\n",
      "  Error: 0.11180428619546497\n",
      "  Updated Beta: [0.70056218 0.90663767 0.36510005]\n",
      "Epoch 50:\n",
      "  Beta values: [0.70048726 0.90656069 0.36502785]\n",
      "  Error: 0.11176939997174655\n",
      "  Updated Beta: [0.70048573 0.90655912 0.36502638]\n",
      "Epoch 100:\n",
      "  Beta values: [0.70041084 0.90648216 0.3649542 ]\n",
      "  Error: 0.1117345360157966\n",
      "  Updated Beta: [0.70040931 0.90648059 0.36495272]\n",
      "Epoch 150:\n",
      "  Beta values: [0.70033445 0.90640365 0.36488056]\n",
      "  Error: 0.11169969431303324\n",
      "  Updated Beta: [0.70033292 0.90640208 0.36487909]\n",
      "Epoch 200:\n",
      "  Beta values: [0.70025808 0.90632517 0.36480695]\n",
      "  Error: 0.11166487484888418\n",
      "  Updated Beta: [0.70025656 0.9063236  0.36480548]\n",
      "Epoch 250:\n",
      "  Beta values: [0.70018175 0.90624671 0.36473335]\n",
      "  Error: 0.11163007760878661\n",
      "  Updated Beta: [0.70018023 0.90624514 0.36473188]\n",
      "Epoch 300:\n",
      "  Beta values: [0.70010545 0.90616827 0.36465978]\n",
      "  Error: 0.11159530257818744\n",
      "  Updated Beta: [0.70010392 0.90616671 0.36465831]\n",
      "Epoch 350:\n",
      "  Beta values: [0.70002918 0.90608986 0.36458622]\n",
      "  Error: 0.11156054974254291\n",
      "  Updated Beta: [0.70002765 0.90608829 0.36458475]\n",
      "Epoch 400:\n",
      "  Beta values: [0.69995294 0.90601147 0.36451269]\n",
      "  Error: 0.11152581908731901\n",
      "  Updated Beta: [0.69995141 0.9060099  0.36451122]\n",
      "Epoch 450:\n",
      "  Beta values: [0.69987672 0.90593311 0.36443917]\n",
      "  Error: 0.11149111059799095\n",
      "  Updated Beta: [0.6998752  0.90593154 0.3644377 ]\n",
      "Przewidywane wartości: [[0.00000000e+00 0.00000000e+00 0.00000000e+00]\n",
      " [5.22674086e+00 5.28002694e-01 5.33385626e-02]\n",
      " [1.34962792e+00 3.52048348e-02 9.18312649e-04]\n",
      " [3.60309757e+01 2.50914782e+01 1.74733619e+01]\n",
      " [1.66958292e+00 5.38753602e-02 1.73849074e-03]]\n"
     ]
    }
   ],
   "execution_count": 390
  },
  {
   "cell_type": "markdown",
   "metadata": {},
   "source": [
    "### Zadanie 3\n",
    "\n",
    "Porównaj czasy działania algorytmu dla danych przed i po normalizacji"
   ]
  },
  {
   "cell_type": "code",
   "metadata": {
    "ExecuteTime": {
     "end_time": "2024-10-21T11:22:46.425320Z",
     "start_time": "2024-10-21T11:22:46.400288Z"
    }
   },
   "source": [
    "start_time = time.time()\n",
    "\n",
    "X_poly_original = transform_to_polynomial_feature(X, n)\n",
    "\n",
    "beta_history_original, error_history_original = learn_and_fit(X_poly_original, y, n)\n",
    "\n",
    "predictions_original = calculate_polynomial_regression_function(X_poly_original, beta_history_original[-1])\n",
    "end_time = time.time()\n",
    "print(f\"Czas działąnia dla danych nienormalizowanych: {end_time - start_time:.4f} sekund\")\n",
    "\n",
    "start_time = time.time()\n",
    "X_poly_normalized = transform_to_polynomial_feature(X_normalized, n)\n",
    "\n",
    "beta_history_normalized, error_history_normalized = learn_and_fit(X_poly_normalized, y_normalized, n)\n",
    "\n",
    "predictions_normalized = calculate_polynomial_regression_function(X_poly_normalized, beta_history_normalized[-1])\n",
    "predictions = denormalize(predictions_normalized, y_min, y_max)\n",
    "\n",
    "end_time = time.time()\n",
    "print(f\"Czas działąnia dla danych znormalizowanych: {end_time - start_time:.4f} sekund\")\n",
    "\n",
    "print(\"Przewidywane wartości dla danych oryginanlnych:\", predictions_original[:5])\n",
    "print(\"Przewidywane wartośći dla danych znormalizowanych:\", predictions[:5])"
   ],
   "outputs": [
    {
     "name": "stdout",
     "output_type": "stream",
     "text": [
      "Epoch 0:\n",
      "  Beta values: [0.05052674 0.0478385  0.74373845]\n",
      "  Error: 672367096.3859729\n",
      "  Updated Beta: [-9.71087374e+00 -4.14323841e+02 -1.80890905e+04]\n",
      "Epoch 50:\n",
      "  Beta values: [8.42455344e+215 3.57464382e+217 1.56017973e+219]\n",
      "  Error: inf\n",
      "  Updated Beta: [-2.05111934e+220 -8.70315694e+221 -3.79855720e+223]\n",
      "Epoch 100:\n",
      "  Beta values: [nan nan nan]\n",
      "  Error: nan\n",
      "  Updated Beta: [nan nan nan]\n",
      "Epoch 150:\n",
      "  Beta values: [nan nan nan]\n",
      "  Error: nan\n",
      "  Updated Beta: [nan nan nan]\n",
      "Epoch 200:\n",
      "  Beta values: [nan nan nan]\n",
      "  Error: nan\n",
      "  Updated Beta: [nan nan nan]\n",
      "Epoch 250:\n",
      "  Beta values: [nan nan nan]\n",
      "  Error: nan\n",
      "  Updated Beta: [nan nan nan]\n",
      "Epoch 300:\n",
      "  Beta values: [nan nan nan]\n",
      "  Error: nan\n",
      "  Updated Beta: [nan nan nan]\n",
      "Epoch 350:\n",
      "  Beta values: [nan nan nan]\n",
      "  Error: nan\n",
      "  Updated Beta: [nan nan nan]\n",
      "Epoch 400:\n",
      "  Beta values: [nan nan nan]\n",
      "  Error: nan\n",
      "  Updated Beta: [nan nan nan]\n",
      "Epoch 450:\n",
      "  Beta values: [nan nan nan]\n",
      "  Error: nan\n",
      "  Updated Beta: [nan nan nan]\n",
      "Czas działąnia dla danych nienormalizowanych: 0.0094 sekund\n",
      "Epoch 0:\n",
      "  Beta values: [0.51366036 0.76744247 0.65588822]\n",
      "  Error: 0.10680104440724834\n",
      "  Updated Beta: [0.51365921 0.76744116 0.65588694]\n",
      "Epoch 50:\n",
      "  Beta values: [0.51360285 0.76737669 0.6558239 ]\n",
      "  Error: 0.10677749919181699\n",
      "  Updated Beta: [0.5136017  0.76737537 0.65582261]\n",
      "Epoch 100:\n",
      "  Beta values: [0.51354537 0.76731092 0.65575959]\n",
      "  Error: 0.10675396865663164\n",
      "  Updated Beta: [0.51354422 0.7673096  0.6557583 ]\n",
      "Epoch 150:\n",
      "  Beta values: [0.51348791 0.76724517 0.65569529]\n",
      "  Error: 0.10673045279208591\n",
      "  Updated Beta: [0.51348677 0.76724385 0.65569401]\n",
      "Epoch 200:\n",
      "  Beta values: [0.51343048 0.76717944 0.65563102]\n",
      "  Error: 0.10670695158857946\n",
      "  Updated Beta: [0.51342933 0.76717812 0.65562973]\n",
      "Epoch 250:\n",
      "  Beta values: [0.51337307 0.76711373 0.65556675]\n",
      "  Error: 0.10668346503651836\n",
      "  Updated Beta: [0.51337192 0.76711241 0.65556547]\n",
      "Epoch 300:\n",
      "  Beta values: [0.51331569 0.76704804 0.65550251]\n",
      "  Error: 0.10665999312631493\n",
      "  Updated Beta: [0.51331454 0.76704672 0.65550122]\n",
      "Epoch 350:\n",
      "  Beta values: [0.51325833 0.76698236 0.65543828]\n",
      "  Error: 0.10663653584838777\n",
      "  Updated Beta: [0.51325718 0.76698105 0.65543699]\n",
      "Epoch 400:\n",
      "  Beta values: [0.51320099 0.76691671 0.65537406]\n",
      "  Error: 0.10661309319316185\n",
      "  Updated Beta: [0.51319984 0.7669154  0.65537278]\n",
      "Epoch 450:\n",
      "  Beta values: [0.51314368 0.76685108 0.65530987]\n",
      "  Error: 0.10658966515106821\n",
      "  Updated Beta: [0.51314253 0.76684976 0.65530858]\n",
      "Czas działąnia dla danych znormalizowanych: 0.0076 sekund\n",
      "Przewidywane wartości dla danych oryginanlnych: [[nan nan nan]\n",
      " [nan nan nan]\n",
      " [nan nan nan]\n",
      " [nan nan nan]\n",
      " [nan nan nan]]\n",
      "Przewidywane wartośći dla danych znormalizowanych: [[0.00000000e+00 0.00000000e+00 0.00000000e+00]\n",
      " [9.39934700e+00 9.49517236e-01 9.59197465e-02]\n",
      " [2.42706143e+00 6.33095206e-02 1.65141901e-03]\n",
      " [6.47951855e+01 4.51224801e+01 3.14226774e+01]\n",
      " [3.00244256e+00 9.68850799e-02 3.12636079e-03]]\n"
     ]
    },
    {
     "name": "stderr",
     "output_type": "stream",
     "text": [
      "C:\\Users\\barte\\AppData\\Local\\Packages\\PythonSoftwareFoundation.Python.3.12_qbz5n2kfra8p0\\LocalCache\\Local\\pypoetry\\Cache\\virtualenvs\\polynomial-regression-38280H-m-py3.12\\Lib\\site-packages\\numpy\\_core\\fromnumeric.py:86: RuntimeWarning: overflow encountered in reduce\n",
      "  return ufunc.reduce(obj, axis, dtype, out, **passkwargs)\n",
      "C:\\Users\\barte\\AppData\\Local\\Temp\\ipykernel_6956\\2045300557.py:15: RuntimeWarning: overflow encountered in square\n",
      "  error = np.sum(diff ** 2) / (2 * m)\n"
     ]
    }
   ],
   "execution_count": 391
  },
  {
   "cell_type": "markdown",
   "metadata": {},
   "source": [
    "### Zadanie 4\n",
    "\n",
    "Stwórz wykres na którym będą znajdować się dane ze zbioru _jaws.csv_ oraz funkcje regresji wielomianowej dla wielomianu pierwszego, czwartego i piątego stopnia. \n",
    "\n",
    "Opisz wykres. Jak zmienia się funkcja regresji wraz z dodawaniem kolejnych stopni wielomianu? Czy widzisz jakąś inną możliwą transformację funkcji regresji tak, żeby rozwiązała analizowany problem?"
   ]
  },
  {
   "cell_type": "code",
   "metadata": {
    "ExecuteTime": {
     "end_time": "2024-10-21T11:22:46.660513Z",
     "start_time": "2024-10-21T11:22:46.451423Z"
    }
   },
   "source": [
    "n_values = [1, 4, 5]\n",
    "X_poly_dict = {n: transform_to_polynomial_feature(X, n) for n in n_values}\n",
    "\n",
    "# Beta dictionary contains the coefficients for each polynomial degree\n",
    "beta_dict = {n: learn_and_fit(X_poly, y_normalized, n)[0] for n, X_poly in X_poly_dict.items()}\n",
    "\n",
    "# Debugging: Checking the size of the beta vectors\n",
    "for n in n_values:\n",
    "    print(f\"Rozmiar beta_dict[{n}]: {beta_dict[n].shape}\")\n",
    "\n",
    "# Generate predictions from the polynomial features\n",
    "predictions_dict = {n: np.dot(X_poly_dict[n], beta_dict[n]) for n in n_values}\n",
    "\n",
    "# Denormalize predictions to get them back in original y-space\n",
    "predictions_denormalized_dict = {n: denormalize(predictions_dict[n], y_min, y_max) for n in n_values}\n",
    "\n",
    "# Check values of predictions\n",
    "for n in n_values:\n",
    "    print(f\"Predictions for degree {n}: {predictions_denormalized_dict[n]}\")\n",
    "\n",
    "# Creating the plot\n",
    "plt.figure(figsize=(10, 6))\n",
    "\n",
    "# Plotting the original data\n",
    "plt.scatter(X, y, color='black', label='data')\n",
    "\n",
    "# Prepare the x_range for plotting predictions\n",
    "x_range = np.linspace(np.min(X), np.max(X), 54)  # Same number of points as your data\n",
    "\n",
    "# Normalize the x_range using the same normalization function used for X\n",
    "x_range_normalized, _, _ = normalize(x_range)\n",
    "\n",
    "# Plotting regression lines for each polynomial degree\n",
    "for n in n_values:\n",
    "    # Generate polynomial features for the x_range\n",
    "    X_poly_range = transform_to_polynomial_feature(x_range_normalized, n)\n",
    "    print(f\"Rozmiar X_poly_range: {X_poly_range.shape}\")  # Debugging\n",
    "    \n",
    "    # Make predictions for the x_range\n",
    "    predictions_range = np.dot(X_poly_range, beta_dict[n])\n",
    "    \n",
    "    # Denormalize predictions\n",
    "    predictions_denormalized_range = denormalize(predictions_range, y_min, y_max)\n",
    "    print(f\"Rozmiar predictions_denormalized_range: {predictions_denormalized_range.shape}\")  # Debugging\n",
    "    \n",
    "    # Check the values of predictions_denormalized_range\n",
    "    print(f\"Predictions Denormalized for degree {n}: {predictions_denormalized_range[:10]}\")  # Debugging first few values\n",
    "    \n",
    "    # Plot the regression line\n",
    "    plt.plot(x_range, predictions_denormalized_range, label=f\"Stopień {n}\")\n",
    "\n",
    "# Finalize the plot\n",
    "plt.title('Regresja wielomianowa dla różnych stopni wielomianu')\n",
    "plt.xlabel('Wiek')\n",
    "plt.ylabel('Długość kości')\n",
    "plt.legend()\n",
    "plt.grid(True)\n",
    "plt.show()\n"
   ],
   "outputs": [
    {
     "name": "stdout",
     "output_type": "stream",
     "text": [
      "Epoch 0:\n",
      "  Beta values: [0.88553886]\n",
      "  Error: 313.91173242768576\n",
      "  Updated Beta: [0.8782642]\n",
      "Epoch 50:\n",
      "  Beta values: [0.58772751]\n",
      "  Error: 134.64772744221924\n",
      "  Updated Beta: [0.58296341]\n",
      "Epoch 100:\n",
      "  Beta values: [0.3926943]\n",
      "  Error: 57.765193135705935\n",
      "  Updated Beta: [0.38957435]\n",
      "Epoch 150:\n",
      "  Beta values: [0.26496932]\n",
      "  Error: 24.791902809678604\n",
      "  Updated Beta: [0.2629261]\n",
      "Epoch 200:\n",
      "  Beta values: [0.18132371]\n",
      "  Error: 10.65035707719903\n",
      "  Updated Beta: [0.17998563]\n",
      "Epoch 250:\n",
      "  Beta values: [0.12654517]\n",
      "  Error: 4.585347679396985\n",
      "  Updated Beta: [0.12566888]\n",
      "Epoch 300:\n",
      "  Beta values: [0.09067134]\n",
      "  Error: 1.9841936265594202\n",
      "  Updated Beta: [0.09009747]\n",
      "Epoch 350:\n",
      "  Beta values: [0.06717799]\n",
      "  Error: 0.8686137547383934\n",
      "  Updated Beta: [0.06680216]\n",
      "Epoch 400:\n",
      "  Beta values: [0.05179246]\n",
      "  Error: 0.3901651795551638\n",
      "  Updated Beta: [0.05154634]\n",
      "Epoch 450:\n",
      "  Beta values: [0.04171666]\n",
      "  Error: 0.1849687208549962\n",
      "  Updated Beta: [0.04155548]\n",
      "Epoch 0:\n",
      "  Beta values: [0.50871673 0.89213379 0.93615865 0.07019923]\n",
      "  Error: 20501176788.93113\n",
      "  Updated Beta: [-5.12237215e+01 -2.24125287e+03 -9.94228758e+04 -4.48610984e+06]\n",
      "Epoch 50:\n",
      "  Beta values: [nan nan nan nan]\n",
      "  Error: nan\n",
      "  Updated Beta: [nan nan nan nan]\n",
      "Epoch 100:\n",
      "  Beta values: [nan nan nan nan]\n",
      "  Error: nan\n",
      "  Updated Beta: [nan nan nan nan]\n",
      "Epoch 150:\n",
      "  Beta values: [nan nan nan nan]\n",
      "  Error: nan\n",
      "  Updated Beta: [nan nan nan nan]\n",
      "Epoch 200:\n",
      "  Beta values: [nan nan nan nan]\n",
      "  Error: nan\n",
      "  Updated Beta: [nan nan nan nan]\n",
      "Epoch 250:\n",
      "  Beta values: [nan nan nan nan]\n",
      "  Error: nan\n",
      "  Updated Beta: [nan nan nan nan]\n",
      "Epoch 300:\n",
      "  Beta values: [nan nan nan nan]\n",
      "  Error: nan\n",
      "  Updated Beta: [nan nan nan nan]\n",
      "Epoch 350:\n",
      "  Beta values: [nan nan nan nan]\n",
      "  Error: nan\n",
      "  Updated Beta: [nan nan nan nan]\n",
      "Epoch 400:\n",
      "  Beta values: [nan nan nan nan]\n",
      "  Error: nan\n",
      "  Updated Beta: [nan nan nan nan]\n",
      "Epoch 450:\n",
      "  Beta values: [nan nan nan nan]\n",
      "  Error: nan\n",
      "  Updated Beta: [nan nan nan nan]\n",
      "Epoch 0:\n",
      "  Beta values: [0.39770093 0.76204547 0.37104578 0.96101618 0.13808297]\n",
      "  Error: 132118329048843.22\n",
      "  Updated Beta: [-3.90081138e+03 -1.73368167e+05 -7.83555457e+06 -3.58888308e+08\n",
      " -1.66163014e+10]\n",
      "Epoch 50:\n",
      "  Beta values: [nan nan nan nan nan]\n",
      "  Error: nan\n",
      "  Updated Beta: [nan nan nan nan nan]\n",
      "Epoch 100:\n",
      "  Beta values: [nan nan nan nan nan]\n",
      "  Error: nan\n",
      "  Updated Beta: [nan nan nan nan nan]\n",
      "Epoch 150:\n",
      "  Beta values: [nan nan nan nan nan]\n",
      "  Error: nan\n",
      "  Updated Beta: [nan nan nan nan nan]\n",
      "Epoch 200:\n",
      "  Beta values: [nan nan nan nan nan]\n",
      "  Error: nan\n",
      "  Updated Beta: [nan nan nan nan nan]\n",
      "Epoch 250:\n",
      "  Beta values: [nan nan nan nan nan]\n",
      "  Error: nan\n",
      "  Updated Beta: [nan nan nan nan nan]\n",
      "Epoch 300:\n",
      "  Beta values: [nan nan nan nan nan]\n",
      "  Error: nan\n",
      "  Updated Beta: [nan nan nan nan nan]\n",
      "Epoch 350:\n",
      "  Beta values: [nan nan nan nan nan]\n",
      "  Error: nan\n",
      "  Updated Beta: [nan nan nan nan nan]\n",
      "Epoch 400:\n",
      "  Beta values: [nan nan nan nan nan]\n",
      "  Error: nan\n",
      "  Updated Beta: [nan nan nan nan nan]\n",
      "Epoch 450:\n",
      "  Beta values: [nan nan nan nan nan]\n",
      "  Error: nan\n",
      "  Updated Beta: [nan nan nan nan nan]\n",
      "Rozmiar beta_dict[1]: (1,)\n",
      "Rozmiar beta_dict[4]: (4,)\n",
      "Rozmiar beta_dict[5]: (5,)\n",
      "Predictions for degree 1: [  0.          25.49239321   6.58254285 175.73394693   8.14305997\n",
      "  11.457789    16.56668908  20.16549211  26.26044844  30.29495856\n",
      "  36.0859476   41.34538621  45.08487689  54.26125694  55.34694426\n",
      "  60.30507616  69.80575704  71.36544948  79.56110215  80.16750784\n",
      "  85.08784153  92.9016526   96.39883185 102.45946846 106.36502164\n",
      " 111.02754281 114.83933803 120.27544687 126.23950012 132.71292984\n",
      " 137.50566647 140.2804461  148.36269602 150.21785123 159.50870513\n",
      " 163.10397095 168.1870427  174.5024151  178.93612478 183.66047288\n",
      " 185.09858061 190.26285147 196.67656341 200.72693762 207.91731357\n",
      " 212.68146351 218.24436813 222.48855853 228.67016163 229.46810391\n",
      " 237.86993878 244.17418413 245.99539521 252.35123757]\n",
      "Predictions for degree 4: [nan nan nan nan nan nan nan nan nan nan nan nan nan nan nan nan nan nan\n",
      " nan nan nan nan nan nan nan nan nan nan nan nan nan nan nan nan nan nan\n",
      " nan nan nan nan nan nan nan nan nan nan nan nan nan nan nan nan nan nan]\n",
      "Predictions for degree 5: [nan nan nan nan nan nan nan nan nan nan nan nan nan nan nan nan nan nan\n",
      " nan nan nan nan nan nan nan nan nan nan nan nan nan nan nan nan nan nan\n",
      " nan nan nan nan nan nan nan nan nan nan nan nan nan nan nan nan nan nan]\n",
      "Rozmiar X_poly_range: (54, 1)\n",
      "Rozmiar predictions_denormalized_range: (54,)\n",
      "Predictions Denormalized for degree 1: [0.         0.09409009 0.18818018 0.28227028 0.37636037 0.47045046\n",
      " 0.56454055 0.65863065 0.75272074 0.84681083]\n",
      "Rozmiar X_poly_range: (54, 4)\n",
      "Rozmiar predictions_denormalized_range: (54,)\n",
      "Predictions Denormalized for degree 4: [nan nan nan nan nan nan nan nan nan nan]\n",
      "Rozmiar X_poly_range: (54, 5)\n",
      "Rozmiar predictions_denormalized_range: (54,)\n",
      "Predictions Denormalized for degree 5: [nan nan nan nan nan nan nan nan nan nan]\n"
     ]
    },
    {
     "name": "stderr",
     "output_type": "stream",
     "text": [
      "C:\\Users\\barte\\AppData\\Local\\Temp\\ipykernel_6956\\2045300557.py:15: RuntimeWarning: overflow encountered in square\n",
      "  error = np.sum(diff ** 2) / (2 * m)\n"
     ]
    },
    {
     "data": {
      "text/plain": [
       "<Figure size 1000x600 with 1 Axes>"
      ],
      "image/png": "[encoded data removed]"
     },
     "metadata": {},
     "output_type": "display_data"
    }
   ],
   "execution_count": 392
  },
  {
   "cell_type": "markdown",
   "metadata": {},
   "source": [
    "### Zadanie 5"
   ]
  },
  {
   "cell_type": "markdown",
   "metadata": {},
   "source": [
    "Odszukaj dowolny inny zbiór danych, dokonaj jego wizualizacji i przetestuj działania algorytmu"
   ]
  },
  {
   "cell_type": "code",
   "metadata": {
    "ExecuteTime": {
     "end_time": "2024-10-21T11:22:46.690183Z",
     "start_time": "2024-10-21T11:22:46.686042Z"
    }
   },
   "source": [
    "# YOUR CODE HERE"
   ],
   "outputs": [],
   "execution_count": 393
  },
  {
   "cell_type": "markdown",
   "metadata": {},
   "source": [
    "### Zadanie 6"
   ]
  },
  {
   "cell_type": "markdown",
   "metadata": {},
   "source": [
    "Zaproponuj metrykę oceny skuteczności działania algorytmu. Można wzorować się na metodach dostępnych pod odnośnikiem: https://scikit-learn.org/stable/modules/classes.html#module-sklearn.metrics"
   ]
  },
  {
   "cell_type": "code",
   "metadata": {
    "ExecuteTime": {
     "end_time": "2024-10-21T11:22:46.722408Z",
     "start_time": "2024-10-21T11:22:46.718326Z"
    }
   },
   "source": [
    "#YOUR CODE HERE"
   ],
   "outputs": [],
   "execution_count": 394
  }
 ],
 "metadata": {
  "kernelspec": {
   "display_name": "Python 3 (ipykernel)",
   "language": "python",
   "name": "python3"
  },
  "language_info": {
   "codemirror_mode": {
    "name": "ipython",
    "version": 3
   },
   "file_extension": ".py",
   "mimetype": "text/x-python",
   "name": "python",
   "nbconvert_exporter": "python",
   "pygments_lexer": "ipython3",
   "version": "3.10.6"
  }
 },
 "nbformat": 4,
 "nbformat_minor": 4
}
